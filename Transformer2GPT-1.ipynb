{
 "cells": [
  {
   "cell_type": "markdown",
   "id": "a67d0592",
   "metadata": {},
   "source": [
    "### Transformer to GPT-1 "
   ]
  },
  {
   "cell_type": "code",
   "execution_count": 15,
   "id": "0bf5a209",
   "metadata": {},
   "outputs": [],
   "source": [
    "# 1. Encoder 제거 \n",
    "# 2. Masked Self-Attention으로 변경 \n",
    "# 3. 입력 데이터 수정 (Auto-Regressive)\n",
    "# 4. Loss (3.1 Unsupervised pre-training + 3.2 Supervised fine-tuning)로 수정"
   ]
  },
  {
   "cell_type": "markdown",
   "id": "8cc8826d",
   "metadata": {},
   "source": [
    "#### 전처리"
   ]
  },
  {
   "cell_type": "code",
   "execution_count": 4,
   "id": "b69d118b",
   "metadata": {},
   "outputs": [
    {
     "name": "stdout",
     "output_type": "stream",
     "text": [
      "2.6.0\n"
     ]
    }
   ],
   "source": [
    "import tensorflow\n",
    "import tensorflow as tf\n",
    "import tensorflow_datasets as tfds\n",
    "import os\n",
    "import re\n",
    "import numpy as np\n",
    "import pandas as pd\n",
    "import matplotlib.pyplot as plt\n",
    "print(tensorflow.__version__)"
   ]
  },
  {
   "cell_type": "code",
   "execution_count": 28,
   "id": "6aa5e394",
   "metadata": {},
   "outputs": [
    {
     "data": {
      "text/html": [
       "<div>\n",
       "<style scoped>\n",
       "    .dataframe tbody tr th:only-of-type {\n",
       "        vertical-align: middle;\n",
       "    }\n",
       "\n",
       "    .dataframe tbody tr th {\n",
       "        vertical-align: top;\n",
       "    }\n",
       "\n",
       "    .dataframe thead th {\n",
       "        text-align: right;\n",
       "    }\n",
       "</style>\n",
       "<table border=\"1\" class=\"dataframe\">\n",
       "  <thead>\n",
       "    <tr style=\"text-align: right;\">\n",
       "      <th></th>\n",
       "      <th>Q</th>\n",
       "      <th>A</th>\n",
       "      <th>label</th>\n",
       "    </tr>\n",
       "  </thead>\n",
       "  <tbody>\n",
       "    <tr>\n",
       "      <th>0</th>\n",
       "      <td>12시 땡!</td>\n",
       "      <td>하루가 또 가네요.</td>\n",
       "      <td>0</td>\n",
       "    </tr>\n",
       "    <tr>\n",
       "      <th>1</th>\n",
       "      <td>1지망 학교 떨어졌어</td>\n",
       "      <td>위로해 드립니다.</td>\n",
       "      <td>0</td>\n",
       "    </tr>\n",
       "    <tr>\n",
       "      <th>2</th>\n",
       "      <td>3박4일 놀러가고 싶다</td>\n",
       "      <td>여행은 언제나 좋죠.</td>\n",
       "      <td>0</td>\n",
       "    </tr>\n",
       "    <tr>\n",
       "      <th>3</th>\n",
       "      <td>3박4일 정도 놀러가고 싶다</td>\n",
       "      <td>여행은 언제나 좋죠.</td>\n",
       "      <td>0</td>\n",
       "    </tr>\n",
       "    <tr>\n",
       "      <th>4</th>\n",
       "      <td>PPL 심하네</td>\n",
       "      <td>눈살이 찌푸려지죠.</td>\n",
       "      <td>0</td>\n",
       "    </tr>\n",
       "  </tbody>\n",
       "</table>\n",
       "</div>"
      ],
      "text/plain": [
       "                 Q            A  label\n",
       "0           12시 땡!   하루가 또 가네요.      0\n",
       "1      1지망 학교 떨어졌어    위로해 드립니다.      0\n",
       "2     3박4일 놀러가고 싶다  여행은 언제나 좋죠.      0\n",
       "3  3박4일 정도 놀러가고 싶다  여행은 언제나 좋죠.      0\n",
       "4          PPL 심하네   눈살이 찌푸려지죠.      0"
      ]
     },
     "execution_count": 28,
     "metadata": {},
     "output_type": "execute_result"
    }
   ],
   "source": [
    "data_path = '/aiffel/aiffel/transformer_chatbot/data/ChatbotData .csv'\n",
    "df = pd.read_csv(data_path)\n",
    "df.head()"
   ]
  },
  {
   "cell_type": "code",
   "execution_count": 29,
   "id": "488f00ed",
   "metadata": {},
   "outputs": [],
   "source": [
    "def preprocess_sentence(data,column=None):\n",
    "    res = []\n",
    "    if column:\n",
    "        for sentence in data[column]:\n",
    "            sentence =  sentence.lower().strip() # 소문자로 변경후 양쪽 공백 제거\n",
    "            sentence = re.sub(r\"([?.!,])\", r\" \\1 \", sentence) # 특수문자와 분리\n",
    "            sentence = re.sub(r'[\" \"]+', \" \", sentence) # 공백 한칸으로 조정\n",
    "            sentence = re.sub(r\"[^^가-힣a-zA-Z0-9\\s.?!,]+\", \" \", sentence) #필요없는 문자들은 ' '로 대체, Korean\n",
    "            sentence = sentence.strip()\n",
    "            res.append(sentence)\n",
    "    else:\n",
    "        sentence =  data.lower().strip() \n",
    "        sentence = re.sub(r\"([?.!,])\", r\" \\1 \", sentence) \n",
    "        sentence = re.sub(r'[\" \"]+', \" \", sentence) \n",
    "        sentence = re.sub(r\"[^^가-힣a-zA-Z0-9\\s.?!,]+\", \" \", sentence) \n",
    "        res = sentence.strip()\n",
    "    return res"
   ]
  },
  {
   "cell_type": "code",
   "execution_count": 30,
   "id": "99d07f34",
   "metadata": {},
   "outputs": [],
   "source": [
    "questions = preprocess_sentence(df, 'Q')\n",
    "answers = preprocess_sentence(df, 'A')"
   ]
  },
  {
   "cell_type": "code",
   "execution_count": 31,
   "id": "d9978a89",
   "metadata": {},
   "outputs": [],
   "source": [
    "# SubwordTextEncoder Vocabulary 생성\n",
    "tokenizer = tfds.deprecated.text.SubwordTextEncoder.build_from_corpus(\n",
    "    questions + answers, target_vocab_size=2**13)\n",
    "\n",
    "START_TOKEN, END_TOKEN = [tokenizer.vocab_size], [tokenizer.vocab_size + 1]\n",
    "VOCAB_SIZE = tokenizer.vocab_size + 2"
   ]
  },
  {
   "cell_type": "code",
   "execution_count": 32,
   "id": "735ab159",
   "metadata": {},
   "outputs": [
    {
     "name": "stdout",
     "output_type": "stream",
     "text": [
      "56 76\n"
     ]
    }
   ],
   "source": [
    "df['Qlength'] = df['Q'].apply(len)\n",
    "df['Alength'] = df['A'].apply(len)\n",
    "print(max(df['Qlength']), max(df['Alength']))"
   ]
  },
  {
   "cell_type": "code",
   "execution_count": 33,
   "id": "6a90dd71",
   "metadata": {},
   "outputs": [],
   "source": [
    "#TODO : 입력 데이터 수정 (전체 Question, Answer를 하나의 데이터셋으로 사용)\n",
    "sentences = list(df['Q'].values) + list(df['A'].values) "
   ]
  },
  {
   "cell_type": "code",
   "execution_count": 34,
   "id": "1d2b54ee",
   "metadata": {},
   "outputs": [],
   "source": [
    "MAX_LENGTH = 50\n",
    "def tokenize_and_filter(sentences):\n",
    "    tokenized_inputs = []\n",
    "\n",
    "    for sentence in sentences:\n",
    "        # 정수 인코딩 (시작 토큰 + 문장 + 종료 토큰)\n",
    "        tokenized_sentence = START_TOKEN + tokenizer.encode(sentence) + END_TOKEN\n",
    "        \n",
    "        # 최대 길이 초과하는 샘플 제거\n",
    "        if len(tokenized_sentence) <= MAX_LENGTH:\n",
    "            tokenized_inputs.append(tokenized_sentence)\n",
    "    \n",
    "    # 패딩 적용\n",
    "    tokenized_inputs = tf.keras.preprocessing.sequence.pad_sequences(\n",
    "        tokenized_inputs, maxlen=MAX_LENGTH, padding='post')\n",
    "\n",
    "    return tokenized_inputs"
   ]
  },
  {
   "cell_type": "code",
   "execution_count": 35,
   "id": "fb68b1b5",
   "metadata": {},
   "outputs": [
    {
     "data": {
      "text/plain": [
       "array([[8164, 7902, 4198, ...,    0,    0,    0],\n",
       "       [8164, 7957,   47, ...,    0,    0,    0],\n",
       "       [8164, 7959, 1433, ...,    0,    0,    0],\n",
       "       ...,\n",
       "       [8164, 5204,  287, ...,    0,    0,    0],\n",
       "       [8164,   14, 3191, ...,    0,    0,    0],\n",
       "       [8164,  221,  554, ...,    0,    0,    0]], dtype=int32)"
      ]
     },
     "execution_count": 35,
     "metadata": {},
     "output_type": "execute_result"
    }
   ],
   "source": [
    "sentences = tokenize_and_filter(sentences)\n",
    "sentences"
   ]
  },
  {
   "cell_type": "code",
   "execution_count": 36,
   "id": "fd7236d9",
   "metadata": {},
   "outputs": [
    {
     "name": "stdout",
     "output_type": "stream",
     "text": [
      "(23646, 49)\n",
      "(23646, 49)\n"
     ]
    }
   ],
   "source": [
    "#TODO : Auto-Regressive 입력 데이터 수정 \n",
    "inputs = sentences[:, :-1]  \n",
    "outputs = sentences[:, 1:]  \n",
    "print(inputs.shape)\n",
    "print(outputs.shape)"
   ]
  },
  {
   "cell_type": "code",
   "execution_count": 37,
   "id": "b6af28d1",
   "metadata": {},
   "outputs": [],
   "source": [
    "BATCH_SIZE = 64\n",
    "BUFFER_SIZE = 25000\n",
    "\n",
    "dataset = tf.data.Dataset.from_tensor_slices((inputs, outputs))\n",
    "dataset = dataset.cache()\n",
    "dataset = dataset.shuffle(BUFFER_SIZE)\n",
    "dataset = dataset.batch(BATCH_SIZE)\n",
    "dataset = dataset.prefetch(tf.data.experimental.AUTOTUNE)"
   ]
  },
  {
   "cell_type": "markdown",
   "id": "9a8fd776",
   "metadata": {},
   "source": [
    "### PositionalEncoding & Self Attention"
   ]
  },
  {
   "cell_type": "code",
   "execution_count": 38,
   "id": "ac94b9e8",
   "metadata": {},
   "outputs": [],
   "source": [
    "class PositionalEncoding(tf.keras.layers.Layer):\n",
    "\n",
    "    def __init__(self, position, d_model):\n",
    "        super(PositionalEncoding, self).__init__()\n",
    "        self.pos_encoding = self.positional_encoding(position, d_model) #문장 길이(토큰 개수)임베딩 차원(단어 벡터 차원)\n",
    "\n",
    "    def get_angles(self, position, i, d_model):\n",
    "        angles = 1 / tf.pow(10000, (2 * (i // 2)) / tf.cast(d_model, tf.float32))\n",
    "        return position * angles\n",
    "\n",
    "    def positional_encoding(self, position, d_model):\n",
    "        angle_rads = self.get_angles(\n",
    "            position=tf.range(position, dtype=tf.float32)[:, tf.newaxis],\n",
    "            i=tf.range(d_model, dtype=tf.float32)[tf.newaxis, :],\n",
    "            d_model=d_model)\n",
    "\n",
    "        sines = tf.math.sin(angle_rads[:, 0::2]) # 0::2는 열 인덱스에서 0번부터 시작해서 2씩 건너뜀 \n",
    "        cosines = tf.math.cos(angle_rads[:, 1::2])\n",
    "\n",
    "        # sin과 cosine이 교차되도록 재배열\n",
    "        pos_encoding = tf.stack([sines, cosines], axis=0)\n",
    "        pos_encoding = tf.transpose(pos_encoding,[1, 2, 0]) \n",
    "        pos_encoding = tf.reshape(pos_encoding, [position, d_model])\n",
    "\n",
    "        pos_encoding = pos_encoding[tf.newaxis, ...] # tf.newaxis는 텐서의 첫 번째 차원에 새로운 축을 추가\n",
    "        return tf.cast(pos_encoding, tf.float32)\n",
    "\n",
    "    def call(self, inputs):\n",
    "        return inputs + self.pos_encoding[:, :tf.shape(inputs)[1], :]"
   ]
  },
  {
   "cell_type": "code",
   "execution_count": 39,
   "id": "6188e9b3",
   "metadata": {},
   "outputs": [],
   "source": [
    "def scaled_dot_product_attention(query, key, value, mask):\n",
    "    # 어텐션 가중치는 Q와 K의 닷 프로덕트\n",
    "    matmul_qk = tf.matmul(query, key, transpose_b=True)\n",
    "\n",
    "    # 가중치를 정규화\n",
    "    depth = tf.cast(tf.shape(key)[-1], tf.float32) #tf.cast는 텐서의 데이터 타입을 변경하는 함수\n",
    "    logits = matmul_qk / tf.math.sqrt(depth)\n",
    "\n",
    "    # 패딩에 마스크 추가\n",
    "    if mask is not None:\n",
    "        logits += (mask * -1e9)\n",
    "\n",
    "    # softmax적용\n",
    "    attention_weights = tf.nn.softmax(logits, axis=-1)\n",
    "\n",
    "    # 최종 어텐션은 가중치와 V의 닷 프로덕트\n",
    "    output = tf.matmul(attention_weights, value)\n",
    "    return output"
   ]
  },
  {
   "cell_type": "code",
   "execution_count": 54,
   "id": "4b2c326d",
   "metadata": {},
   "outputs": [],
   "source": [
    "def create_padding_mask(x):\n",
    "    mask = tf.cast(tf.math.equal(x, 0), tf.float32) # tf.newaxis를 사용하여 (batch_size, 1, 1, sequence length)형태로 변경\n",
    "    return mask[:, tf.newaxis, tf.newaxis, :]\n",
    "\n",
    "def create_look_ahead_mask(x):\n",
    "    seq_len = tf.shape(x)[1] # x 텐서의 시퀀스 길이(두 번째 차원)를 seq_len 변수에 저장\n",
    "    look_ahead_mask = 1 - tf.linalg.band_part(tf.ones((seq_len, seq_len)), -1, 0)\n",
    "    padding_mask = create_padding_mask(x)\n",
    "    return tf.maximum(look_ahead_mask, padding_mask)"
   ]
  },
  {
   "cell_type": "markdown",
   "id": "16a7c3cc",
   "metadata": {},
   "source": [
    "<!-- ![img](/aiffel/aiffel/assets/decoder/decoder.png) -->\n",
    "![img](./assets/decoder/decoder.png)"
   ]
  },
  {
   "cell_type": "markdown",
   "id": "f0e091f4",
   "metadata": {},
   "source": [
    "### Decoder"
   ]
  },
  {
   "cell_type": "code",
   "execution_count": 75,
   "id": "8a7245a2",
   "metadata": {},
   "outputs": [],
   "source": [
    "class MultiHeadAttention(tf.keras.layers.Layer):\n",
    "    def __init__(self, d_model, num_heads, name=\"multi_head_attention\"):\n",
    "        super(MultiHeadAttention, self).__init__(name=name)\n",
    "        self.num_heads = num_heads\n",
    "        self.d_model = d_model\n",
    "        \n",
    "        assert d_model % num_heads == 0\n",
    "\n",
    "        self.depth = d_model // num_heads\n",
    "        \n",
    "        self.query_dense = tf.keras.layers.Dense(units=d_model)\n",
    "        self.key_dense = tf.keras.layers.Dense(units=d_model)\n",
    "        self.value_dense = tf.keras.layers.Dense(units=d_model)\n",
    "        self.dense = tf.keras.layers.Dense(units=d_model)\n",
    "\n",
    "    def split_heads(self, inputs, batch_size):\n",
    "        inputs = tf.reshape(inputs, (batch_size, -1, self.num_heads, self.depth))\n",
    "        return tf.transpose(inputs, perm=[0, 2, 1, 3])\n",
    "\n",
    "    def call(self, inputs):\n",
    "#         query, key, value = inputs\n",
    "\n",
    "        query, key, value, mask = inputs['query'], inputs['key'], inputs['value'], inputs['mask']\n",
    "        batch_size = tf.shape(query)[0]\n",
    "\n",
    "        query = self.query_dense(query)\n",
    "        key = self.key_dense(key)\n",
    "        value = self.value_dense(value)\n",
    "\n",
    "        query = self.split_heads(query, batch_size)\n",
    "        key = self.split_heads(key, batch_size)\n",
    "        value = self.split_heads(value, batch_size)\n",
    "\n",
    "        #\n",
    "        scaled_attention = scaled_dot_product_attention(query, key, value, mask)\n",
    "        scaled_attention = tf.transpose(scaled_attention, perm=[0, 2, 1, 3])\n",
    "        concat_attention = tf.reshape(scaled_attention,(batch_size, -1, self.d_model))\n",
    "        outputs = self.dense(concat_attention)\n",
    "        return outputs\n"
   ]
  },
  {
   "cell_type": "code",
   "execution_count": 80,
   "id": "0b6e93ca",
   "metadata": {},
   "outputs": [],
   "source": [
    "#TODO: \n",
    "# Transformer의 Encoder 관련 부분 제거\n",
    "# L1과 L2에 따라 look_ahead_mask 작동 구분이 필요할거 같음 (future work)\n",
    "\n",
    "def decoder_layer(units, d_model, num_heads, dropout, name=\"decoder_layer\"):\n",
    "    inputs = tf.keras.Input(shape=(None, d_model), name=\"inputs\")\n",
    "    look_ahead_mask = tf.keras.Input(shape=(1, None, None), name=\"look_ahead_mask\")  # look-ahead mask만 필요\n",
    "\n",
    "    # Self-attention\n",
    "    attention1 = MultiHeadAttention(\n",
    "          d_model, num_heads, name=\"attention_1\")({\n",
    "              'query': inputs,\n",
    "              'key': inputs,\n",
    "              'value': inputs,\n",
    "              'mask': look_ahead_mask  \n",
    "          })\n",
    "    attention1 = tf.keras.layers.LayerNormalization(epsilon=1e-6)(attention1 + inputs)\n",
    "\n",
    "    # FFN\n",
    "    outputs = tf.keras.layers.Dense(units=units, activation='relu')(attention1)\n",
    "    outputs = tf.keras.layers.Dense(units=d_model)(outputs)\n",
    "\n",
    "    # Dropout & Layer Normalization\n",
    "    outputs = tf.keras.layers.Dropout(rate=dropout)(outputs)\n",
    "    outputs = tf.keras.layers.LayerNormalization(epsilon=1e-6)(outputs + attention1)\n",
    "\n",
    "    return tf.keras.Model(inputs=[inputs, look_ahead_mask], outputs=outputs, name=name)\n",
    "\n",
    "\n",
    "def decoder(vocab_size, num_layers, units, d_model, num_heads, dropout, name='decoder'):\n",
    "    inputs = tf.keras.Input(shape=(None,), name='inputs')\n",
    "\n",
    "    embeddings = tf.keras.layers.Embedding(vocab_size, d_model)(inputs)\n",
    "    embeddings *= tf.math.sqrt(tf.cast(d_model, tf.float32))\n",
    "\n",
    "    # Positional Encoding\n",
    "    embeddings = PositionalEncoding(vocab_size, d_model)(embeddings)\n",
    "    outputs = tf.keras.layers.Dropout(rate=dropout)(embeddings)\n",
    "\n",
    "    # Decoder Layer 반복\n",
    "    for i in range(num_layers):\n",
    "        look_ahead_mask = create_look_ahead_mask(inputs) \n",
    "        outputs = decoder_layer(\n",
    "            units=units,\n",
    "            d_model=d_model,\n",
    "            num_heads=num_heads,\n",
    "            dropout=dropout,\n",
    "            name='decoder_layer_{}'.format(i)\n",
    "        )([outputs, look_ahead_mask])\n",
    "\n",
    "    return tf.keras.Model(inputs=inputs, outputs=outputs, name=name)\n"
   ]
  },
  {
   "cell_type": "markdown",
   "id": "2aa78642",
   "metadata": {},
   "source": [
    "### GPT-1 Loss"
   ]
  },
  {
   "cell_type": "markdown",
   "id": "9c774434",
   "metadata": {},
   "source": [
    "![img](./assets/decoder/loss.png)"
   ]
  },
  {
   "cell_type": "code",
   "execution_count": 81,
   "id": "835433a0",
   "metadata": {},
   "outputs": [],
   "source": [
    "#TODO: 3.1 Unsupervised pre-training + 3.2 Supervised fine-tuning loss\n",
    "\n",
    "# masking 필요 x (auto-regressive)\n",
    "def L1_function(y_true, y_pred):\n",
    "    y_true = tf.reshape(y_true, shape=(-1, MAX_LENGTH - 1))  # 문장 길이 - 1\n",
    "    loss = tf.keras.losses.SparseCategoricalCrossentropy(from_logits=True, reduction='none')(y_true, y_pred)\n",
    "    return tf.reduce_mean(loss)\n",
    "\n",
    "# masking 필요 \n",
    "def L2_function(y_true, y_pred):\n",
    "    y_true = tf.reshape(y_true, shape=(-1, MAX_LENGTH - 1))\n",
    "    loss = tf.keras.losses.SparseCategoricalCrossentropy(from_logits=True, reduction='none')(y_true, y_pred)\n",
    "    mask = tf.cast(tf.not_equal(y_true, 0), tf.float32)\n",
    "    loss = tf.multiply(loss, mask)\n",
    "    return tf.reduce_mean(loss)\n",
    "\n",
    "# The var name follows the annotation on the GPT-1 paper.\n",
    "def auxiliary_function(y_true, y_pred, lambda_weigh=0.3):\n",
    "    L2_loss = L2_function(y_true, y_pred)  \n",
    "    L1_loss = L1_function(y_true, y_pred)  \n",
    "    return L2_loss + (lambda_weigh * L1_loss) "
   ]
  },
  {
   "cell_type": "markdown",
   "id": "8d2963d4",
   "metadata": {},
   "source": [
    "### Train"
   ]
  },
  {
   "cell_type": "code",
   "execution_count": 82,
   "id": "c21df4aa",
   "metadata": {},
   "outputs": [],
   "source": [
    "class CustomSchedule(tf.keras.optimizers.schedules.LearningRateSchedule):\n",
    "    def __init__(self, d_model, warmup_steps=4000):\n",
    "        super(CustomSchedule, self).__init__()\n",
    "\n",
    "        self.d_model = d_model\n",
    "        self.d_model = tf.cast(self.d_model, tf.float32)\n",
    "        self.warmup_steps = warmup_steps\n",
    "\n",
    "    def __call__(self, step):\n",
    "        arg1 = tf.math.rsqrt(step)\n",
    "        arg2 = step * (self.warmup_steps**-1.5)\n",
    "        return tf.math.rsqrt(self.d_model) * tf.math.minimum(arg1, arg2)\n",
    "    \n",
    "learning_rate = CustomSchedule(D_MODEL)\n",
    "\n",
    "optimizer = tf.keras.optimizers.Adam(\n",
    "    learning_rate, beta_1=0.9, beta_2=0.98, epsilon=1e-9)\n",
    "\n",
    "def accuracy(y_true, y_pred):\n",
    "    y_true = tf.reshape(y_true, shape=(-1, MAX_LENGTH - 1))\n",
    "    return tf.keras.metrics.sparse_categorical_accuracy(y_true, y_pred)"
   ]
  },
  {
   "cell_type": "code",
   "execution_count": 83,
   "id": "1dca0f20",
   "metadata": {},
   "outputs": [
    {
     "name": "stdout",
     "output_type": "stream",
     "text": [
      "Epoch 1/2\n",
      "370/370 [==============================] - 10s 18ms/step - loss: nan - accuracy: 0.8608\n",
      "Epoch 2/2\n",
      "370/370 [==============================] - 7s 18ms/step - loss: nan - accuracy: 0.8632\n"
     ]
    },
    {
     "data": {
      "text/plain": [
       "<keras.callbacks.History at 0x7a1412fd1040>"
      ]
     },
     "execution_count": 83,
     "metadata": {},
     "output_type": "execute_result"
    }
   ],
   "source": [
    "tf.keras.backend.clear_session()\n",
    "\n",
    "# 하이퍼파라미터\n",
    "EPOCHS = 2\n",
    "NUM_LAYERS = 2 # 인코더와 디코더의 층의 개수\n",
    "D_MODEL = 256 # 인코더와 디코더 내부의 입, 출력의 고정 차원\n",
    "NUM_HEADS = 8 # 멀티 헤드 어텐션에서의 헤드 수 \n",
    "UNITS = 512 # 피드 포워드 신경망의 은닉층의 크기\n",
    "DROPOUT = 0.1 # 드롭아웃의 비율\n",
    "\n",
    "model = decoder(\n",
    "            vocab_size=VOCAB_SIZE,\n",
    "            num_layers=NUM_LAYERS,\n",
    "            units=UNITS,\n",
    "            d_model=D_MODEL,\n",
    "            num_heads=NUM_HEADS,\n",
    "            dropout=DROPOUT)\n",
    "\n",
    "model.compile(optimizer=optimizer, loss=auxiliary_function, metrics=[accuracy])\n",
    "model.fit(dataset, epochs=EPOCHS, verbose=1)"
   ]
  },
  {
   "cell_type": "code",
   "execution_count": null,
   "id": "63fb04bc",
   "metadata": {},
   "outputs": [],
   "source": [
    "'''\n",
    "Futurework \n",
    "1. Train loss: nan 처리\n",
    "2. Decoder Layer network L1/L2 처리\n",
    "3. Inference \n",
    "'''"
   ]
  }
 ],
 "metadata": {
  "kernelspec": {
   "display_name": "Python 3 (ipykernel)",
   "language": "python",
   "name": "python3"
  },
  "language_info": {
   "codemirror_mode": {
    "name": "ipython",
    "version": 3
   },
   "file_extension": ".py",
   "mimetype": "text/x-python",
   "name": "python",
   "nbconvert_exporter": "python",
   "pygments_lexer": "ipython3",
   "version": "3.9.7"
  }
 },
 "nbformat": 4,
 "nbformat_minor": 5
}
